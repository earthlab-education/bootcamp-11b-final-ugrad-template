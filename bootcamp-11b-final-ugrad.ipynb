{
 "cells": [
  {
   "cell_type": "markdown",
   "metadata": {},
   "source": [
    "<img style=\"float: left;\" src=\"earth-lab-logo-rgb.png\" width=\"150\" height=\"150\" />\n",
    "\n",
    "# Earth Analytics Education"
   ]
  },
  {
   "cell_type": "markdown",
   "metadata": {},
   "source": [
    "## Important  - Assignment Guidelines\n",
    "\n",
    "1. Before you submit your assignment to GitHub, make sure to run the entire notebook with a fresh kernel. To do this first, **restart the kernel** (in the menubar, select Kernel$\\rightarrow$Restart & Run All)\n",
    "2. Always replace the `raise NotImplementedError()` code with your code that addresses the activity challenge. If you don't replace that code, your notebook will not run.\n",
    "\n",
    "```\n",
    "# YOUR CODE HERE\n",
    "raise NotImplementedError()\n",
    "```\n",
    "\n",
    "3. Any open ended questions will have a \"YOUR ANSWER HERE\" within a markdown cell. Replace that text with your answer also formatted using Markdown.\n",
    "4. **DO NOT RENAME THIS NOTEBOOK File!** If the file name changes, the autograder will not grade your assignment properly.\n",
    "\n",
    "* Only include the package imports, code, and outputs that are required to run your homework assignment.\n",
    "* Be sure that your code can be run on any operating system. This means that:\n",
    "   1. the data should be downloaded in the notebook to ensure it's reproducible\n",
    "   2. all paths should be created dynamically using the `os.path.join`\n",
    "   3. sort lists of dated files even if they are sorted correctly by default on your machine\n",
    "\n",
    "## Follow to PEP 8 Syntax Guidelines & Documentation\n",
    "\n",
    "* Run the `autopep8` tool on all cells prior to submitting (HINT: hit shift + the tool to run it on all cells at once!\n",
    "* Use clear and expressive names for variables. \n",
    "* Organize your code to support readability.\n",
    "* Check for code line length\n",
    "* Use comments and white space sparingly where it is needed\n",
    "* Make sure all python imports are at the top of your notebook and follow PEP 8 order conventions\n",
    "* Spell check your Notebook before submitting it.\n",
    "\n",
    "For all of the plots below, be sure to do the following:\n",
    "\n",
    "* Make sure each plot has a clear TITLE and, where appropriate, label the x and y axes. Be sure to include UNITS in your labels.\n"
   ]
  },
  {
   "cell_type": "markdown",
   "metadata": {},
   "source": [
    "### Add Your Name Below \n",
    "**Your Name:**"
   ]
  },
  {
   "cell_type": "markdown",
   "metadata": {},
   "source": [
    "<img style=\"float: left;\" src=\"colored-bar.png\"/>"
   ]
  },
  {
   "cell_type": "markdown",
   "metadata": {},
   "source": [
    "---"
   ]
  },
  {
   "cell_type": "markdown",
   "metadata": {
    "deletable": false,
    "editable": false,
    "nbgrader": {
     "cell_type": "markdown",
     "checksum": "c3f91b955ad0285083f48d018f2790ce",
     "grade": false,
     "grade_id": "overview",
     "locked": true,
     "schema_version": 3,
     "solution": false,
     "task": false
    }
   },
   "source": [
    "# Review assignment"
   ]
  },
  {
   "cell_type": "markdown",
   "metadata": {
    "deletable": false,
    "editable": false,
    "nbgrader": {
     "cell_type": "markdown",
     "checksum": "df0b725422d0a15abe425fd8270d432a",
     "grade": false,
     "grade_id": "question-student-imports",
     "locked": true,
     "schema_version": 3,
     "solution": false,
     "task": false
    }
   },
   "source": [
    "## Import packages\n",
    "\n",
    "Import the packages you will need to:\n",
    "* build cross-platform paths\n",
    "* find files using a pattern\n",
    "* download data using earthpy\n",
    "* create plots\n",
    "* work with numpy arrays\n",
    "* work with pandas DataFrames\n",
    "* use the seaborn plot options (use alias sns)\n",
    "\n",
    "**BONUS: set the plot theme to the seaborn default**"
   ]
  },
  {
   "cell_type": "code",
   "execution_count": null,
   "metadata": {
    "deletable": false,
    "nbgrader": {
     "cell_type": "code",
     "checksum": "20489880accefdb27a2f10ca8cc97835",
     "grade": false,
     "grade_id": "student-imports-answer",
     "locked": false,
     "schema_version": 3,
     "solution": true,
     "task": false
    }
   },
   "outputs": [],
   "source": [
    "# YOUR CODE HERE\n",
    "raise NotImplementedError()"
   ]
  },
  {
   "cell_type": "code",
   "execution_count": null,
   "metadata": {
    "deletable": false,
    "editable": false,
    "nbgrader": {
     "cell_type": "code",
     "checksum": "e6f252b3da35c8234ae312e464580240",
     "grade": true,
     "grade_id": "student-imports-tests",
     "locked": true,
     "points": 7,
     "schema_version": 3,
     "solution": false,
     "task": false
    }
   },
   "outputs": [],
   "source": [
    "# Test package imports - DO NOT MODIFY THIS CELL!\n",
    "import_answer_points = 0\n",
    "\n",
    "# Imports for testing\n",
    "import hashlib\n",
    "\n",
    "try:\n",
    "    os.getcwd()\n",
    "    print(\"\\u2705 Great work! The os module has imported correctly!\")\n",
    "    import_answer_points += 1\n",
    "except NameError:\n",
    "    print(\"\\u274C Oops make sure that the os package is imported.\")\n",
    "    \n",
    "try:\n",
    "    files = glob('~')\n",
    "    print(\"\\u2705 Great work! The glob module has imported correctly!\")\n",
    "    import_answer_points += 1\n",
    "except NameError:\n",
    "    print(\"\\u274C Oops make sure that the glob package is imported.\")\n",
    "\n",
    "try:\n",
    "    data = et.io\n",
    "    print(\"\\u2705 Great work! The earthpy package has imported correctly!\")\n",
    "    import_answer_points += 1\n",
    "except NameError:\n",
    "    print((\"\\u274C Oops make sure that the earthpy package is imported \"\n",
    "           \"using the alias et.\"))\n",
    "\n",
    "try:\n",
    "    plt.show()\n",
    "    print(\"\\u2705 Nice! matplotlib.pyplot has been imported as plt!\")\n",
    "    import_answer_points += 1\n",
    "except NameError:\n",
    "    print((\"matplotlib.pyplot has not been imported as plt, \"\n",
    "           \"please make sure to import is properly.\"))\n",
    "    \n",
    "try:\n",
    "    np.nan\n",
    "    print(\"\\u2705 Score! Numpy has been imported as a np!\")\n",
    "    import_answer_points += 1\n",
    "except NameError:\n",
    "    print((\"\\u274C Numpy has not been imported as a np, \"\n",
    "           \"please make sure to import is properly.\"))\n",
    "\n",
    "try:\n",
    "    no_data = pd.NA\n",
    "    print(\"\\u2705 Score! Pandas has been imported as a pd!\")\n",
    "    import_answer_points += 1\n",
    "except NameError:\n",
    "    print((\"\\u274C Pandas has not been imported as a pd, \"\n",
    "           \"please make sure to import is properly.\"))\n",
    "\n",
    "try:\n",
    "    sns.set_theme()\n",
    "    print(\"\\u2705 Score! Seaborn has been imported as sns!\")\n",
    "    import_answer_points += 1\n",
    "except NameError:\n",
    "    print((\"\\u274C Seaborn has not been imported as sns, \"\n",
    "           \"please make sure to import is properly.\"))\n",
    "    \n",
    "print(\"\\n \\u27A1 You received {} out of 6 points.\".format(\n",
    "    import_answer_points))\n",
    "\n",
    "import_answer_points"
   ]
  },
  {
   "cell_type": "markdown",
   "metadata": {
    "deletable": false,
    "editable": false,
    "nbgrader": {
     "cell_type": "markdown",
     "checksum": "89782ad4037af7d9e04f2f56b40f169a",
     "grade": false,
     "grade_id": "question-student-download",
     "locked": true,
     "schema_version": 3,
     "solution": false,
     "task": false
    }
   },
   "source": [
    "## Set up data directory and path and download ca-fires-yearly dataset\n",
    "\n",
    "We are using the ca-fires-yearly data for this set of exercises. Below, get set up to use this dataset by:\n",
    "* Creating the earth-analtics/data directory if it does not exist\n",
    "* Setting the data directory as the working directory\n",
    "* Downloading the ca-fires-yearly data\n",
    "\n",
    "Download url: https://ndownloader.figshare.com/files/25033508"
   ]
  },
  {
   "cell_type": "code",
   "execution_count": null,
   "metadata": {
    "deletable": false,
    "nbgrader": {
     "cell_type": "code",
     "checksum": "ba715efad79cf0d0d5a67aad32ab4d05",
     "grade": false,
     "grade_id": "student-download-answer",
     "locked": false,
     "schema_version": 3,
     "solution": true,
     "task": false
    }
   },
   "outputs": [],
   "source": [
    "# YOUR CODE HERE\n",
    "raise NotImplementedError()"
   ]
  },
  {
   "cell_type": "code",
   "execution_count": null,
   "metadata": {
    "deletable": false,
    "editable": false,
    "nbgrader": {
     "cell_type": "code",
     "checksum": "392f008fc8f86811b9757812fc4f0a22",
     "grade": true,
     "grade_id": "student-working-dir-tests",
     "locked": true,
     "points": 5,
     "schema_version": 3,
     "solution": false,
     "task": false
    }
   },
   "outputs": [],
   "source": [
    "# DO NOT MODIFY THIS CELL\n",
    "\n",
    "# Tests that the working directory is set to earth-analytics/data\n",
    "# And that the data download directory exists\n",
    "\n",
    "path = os.path.normpath(os.getcwd())\n",
    "student_wd_parts = path.split(os.sep)\n",
    "\n",
    "wd_points = 0\n",
    "\n",
    "if student_wd_parts[-2:] == ['earth-analytics', 'data']:\n",
    "    print((\"\\u2705 Great - it looks like your working directory is set \"\n",
    "           \"correctly to .../earth-analytics/data\"))\n",
    "    wd_points += 3\n",
    "else:\n",
    "    print((\"\\u274C Oops, the autograder will not run unless your working \"\n",
    "           \"directory is set to earth-analytics/data\"))\n",
    "\n",
    "# Tests that California Fires Dataset is downloaded\n",
    "ca_fires_yearly_path = os.path.join(\n",
    "    \"earthpy-downloads\", \n",
    "    \"ca-fires-yearly\")\n",
    "\n",
    "if os.path.exists(ca_fires_yearly_path):\n",
    "    print((\"\\u2705 Great - it looks like you successfully downloaded the \"\n",
    "           \"ca-fires-yearly dataset to .../earthpy-downloads/ca-fires-yearly\"))\n",
    "    wd_points += 2\n",
    "else:\n",
    "    print((\"\\u274C Oops, you still need to download the ca-fires-yearly data\"))\n",
    "    \n",
    "print((\"\\n \\u27A1 You received {} out of 5 points for setting your working \"\n",
    "       \"directory.\").format(wd_points))\n",
    "\n",
    "wd_points"
   ]
  },
  {
   "cell_type": "code",
   "execution_count": null,
   "metadata": {
    "deletable": false,
    "nbgrader": {
     "cell_type": "code",
     "checksum": "f8ea381fa37770d639c8478b0dcf3c22",
     "grade": true,
     "grade_id": "student-working-dir-test-manual",
     "locked": false,
     "points": 2,
     "schema_version": 3,
     "solution": true,
     "task": false
    }
   },
   "outputs": [],
   "source": [
    "# YOUR CODE HERE\n",
    "raise NotImplementedError()"
   ]
  },
  {
   "cell_type": "markdown",
   "metadata": {
    "deletable": false,
    "editable": false,
    "nbgrader": {
     "cell_type": "markdown",
     "checksum": "a26fafd5534f60d6e838b362b7568d4c",
     "grade": false,
     "grade_id": "student-numfires-question",
     "locked": true,
     "schema_version": 3,
     "solution": false,
     "task": false
    }
   },
   "source": [
    "## Challenge 1: Calculate the number of fires between 1992-2015 greater than 100 acres\n",
    "\n",
    "Simple loop: go through files in the 1992-2015-gt-100-acres directory in your CA yearly fires directory and calculate the number of total fires by adding up the number of fires (rows) in each file\n",
    "\n",
    "If you are going to calculate a value in a loop - remember to set up a variable and initialize it.\n",
    "\n",
    "**Call your variable with the number of total fires at the end of the cell**"
   ]
  },
  {
   "cell_type": "code",
   "execution_count": null,
   "metadata": {
    "deletable": false,
    "nbgrader": {
     "cell_type": "code",
     "checksum": "4818048964b42d05cb7718dc49cf4b69",
     "grade": false,
     "grade_id": "student-numfires-answer",
     "locked": false,
     "schema_version": 3,
     "solution": true,
     "task": false
    }
   },
   "outputs": [],
   "source": [
    "# YOUR CODE HERE\n",
    "raise NotImplementedError()"
   ]
  },
  {
   "cell_type": "code",
   "execution_count": null,
   "metadata": {
    "deletable": false,
    "editable": false,
    "nbgrader": {
     "cell_type": "code",
     "checksum": "088e5bf1d70a80b2cd7be3bf6c0f6b29",
     "grade": true,
     "grade_id": "student-numfires-test",
     "locked": true,
     "points": 5,
     "schema_version": 3,
     "solution": false,
     "task": false
    }
   },
   "outputs": [],
   "source": [
    "# DO NOT MODIFY THIS CELL\n",
    "# Testing to see if the number of fires is an integer\n",
    "\n",
    "student_num_fires = _\n",
    "numfires_points = 0\n",
    "\n",
    "if isinstance(student_num_fires, int):\n",
    "    print(\"\\u2705 Result is an integer, good job!\")\n",
    "else:\n",
    "    print(\"\\u274C Result should be an integer.\")\n",
    "\n",
    "ans_hash = hashlib.sha256(\n",
    "    student_num_fires.to_bytes(16, 'little', signed=False)).hexdigest()\n",
    "if ans_hash=='68c45f157847777ec1c5b7db7f377cefd044e9db329a31dce4a0e94801a7715d':\n",
    "    print(\"\\u2705 You correctly computed the number of fires, good job!\")\n",
    "    numfires_points += 5\n",
    "else:\n",
    "    print(\"\\u274C That is not the right number of fires.\")\n",
    "\n",
    "print(\"\\n \\u27A1 You received {} out of 5 points.\".format(\n",
    "      numfires_points))\n",
    "\n",
    "numfires_points"
   ]
  },
  {
   "cell_type": "markdown",
   "metadata": {
    "deletable": false,
    "editable": false,
    "nbgrader": {
     "cell_type": "markdown",
     "checksum": "23014babad867f393a428c05e81b5e81",
     "grade": false,
     "grade_id": "student-concat-question",
     "locked": true,
     "schema_version": 3,
     "solution": false,
     "task": false
    }
   },
   "source": [
    "## Challenge 2:  Concatenate annual files into single dataframe\n",
    "\n",
    "Process a series of dataframes and extract the year value from the file name, storing as an **integer column** in the dataframe. **Set the DataFrame Index as the fire unique id (fd_unq_id), and sort by the index.**"
   ]
  },
  {
   "cell_type": "code",
   "execution_count": null,
   "metadata": {
    "deletable": false,
    "nbgrader": {
     "cell_type": "code",
     "checksum": "ecf58e0bf06a1071780bcd67d772cff8",
     "grade": false,
     "grade_id": "student-concat-answer",
     "locked": false,
     "schema_version": 3,
     "solution": true,
     "task": false
    }
   },
   "outputs": [],
   "source": [
    "# YOUR CODE HERE\n",
    "raise NotImplementedError()"
   ]
  },
  {
   "cell_type": "code",
   "execution_count": null,
   "metadata": {
    "deletable": false,
    "editable": false,
    "nbgrader": {
     "cell_type": "code",
     "checksum": "f60ed8da26ee0ab5fe3091aa1ba63ac8",
     "grade": true,
     "grade_id": "student-concat-test",
     "locked": true,
     "points": 20,
     "schema_version": 3,
     "solution": false,
     "task": false
    }
   },
   "outputs": [],
   "source": [
    "# DO NOT MODIFY THIS CELL\n",
    "\n",
    "student_dataframe_all_fires = _\n",
    "\n",
    "\n",
    "if isinstance(student_dataframe_all_fires, pd.DataFrame):\n",
    "    print(\"\\u2705 Object created is a dataframe, good job!\")\n",
    "else:\n",
    "    print(\"\\u274C Object created is not a dataframe.\")\n",
    "\n",
    "if student_dataframe_all_fires.index.name == 'fd_unq_id':\n",
    "    print(\"\\u2705 Successfully read in the fire id column as the index!\")\n",
    "else:\n",
    "    print(\"\\u274C The index is not set to the fire id column.\")\n",
    "    \n",
    "if pd.api.types.is_integer_dtype(student_dataframe_all_fires.year):\n",
    "    print(\"\\u2705 Successfully created an integer year column!\")\n",
    "else:\n",
    "    print(\"\\u274C The year is not an integer column\")"
   ]
  },
  {
   "cell_type": "markdown",
   "metadata": {
    "deletable": false,
    "editable": false,
    "nbgrader": {
     "cell_type": "markdown",
     "checksum": "3d518af014be8ea44f6b6fc8d1ee0df4",
     "grade": false,
     "grade_id": "student-index-question",
     "locked": true,
     "points": 0,
     "schema_version": 3,
     "solution": false,
     "task": true
    }
   },
   "source": [
    "In the cell below, answer the following in a **numbered list**:\n",
    "1. What are the advantages of using the unique id as an index instead of the year as you did in previous assignments?\n",
    "2. What are the advantages of using sorted year as the index?"
   ]
  },
  {
   "cell_type": "markdown",
   "metadata": {
    "deletable": false,
    "nbgrader": {
     "cell_type": "markdown",
     "checksum": "9f4bba69a44ebe37b87d834d3a27b4b6",
     "grade": true,
     "grade_id": "student-index-answer",
     "locked": false,
     "points": 6,
     "schema_version": 3,
     "solution": true,
     "task": false
    }
   },
   "source": [
    "YOUR ANSWER HERE"
   ]
  },
  {
   "cell_type": "markdown",
   "metadata": {
    "deletable": false,
    "editable": false,
    "nbgrader": {
     "cell_type": "markdown",
     "checksum": "3820fe8ca3ab9a0f29069bcc48c65fb5",
     "grade": false,
     "grade_id": "student-group-question",
     "locked": true,
     "schema_version": 3,
     "solution": false,
     "task": false
    }
   },
   "source": [
    "## Challenge 3: Group and aggregate\n",
    "\n",
    "Use the pandas DataFrame method `.groupby` to take the **yearly maximum** and **monthly mean** fire size, and then call both dataframes, e.g.:\n",
    "\n",
    "max_fire_size_yearly_df, mean_fire_size_monthly_df\n",
    "\n",
    "**Use the month_num column to take the monthly mean so that the DataFrame will be in the right order**"
   ]
  },
  {
   "cell_type": "code",
   "execution_count": null,
   "metadata": {
    "deletable": false,
    "nbgrader": {
     "cell_type": "code",
     "checksum": "89bd7c533a19219f58a19ff7f080856b",
     "grade": false,
     "grade_id": "student-group-answer",
     "locked": false,
     "schema_version": 3,
     "solution": true,
     "task": false
    }
   },
   "outputs": [],
   "source": [
    "# YOUR CODE HERE\n",
    "raise NotImplementedError()"
   ]
  },
  {
   "cell_type": "code",
   "execution_count": null,
   "metadata": {
    "deletable": false,
    "editable": false,
    "nbgrader": {
     "cell_type": "code",
     "checksum": "f3d549ac31c5b517c7abb8474fe02809",
     "grade": true,
     "grade_id": "student-group-test",
     "locked": true,
     "points": 20,
     "schema_version": 3,
     "solution": false,
     "task": false
    }
   },
   "outputs": [],
   "source": [
    "# DO NOT MODIFY THIS CELL\n",
    "\n",
    "# Tests if the results are DataFrames\n",
    "# Makes sure that the yearly and monthly results are the right length\n",
    "\n",
    "student_max_yearly, student_mean_monthly = _\n",
    "summary_pts = 0\n",
    "\n",
    "if isinstance(student_max_yearly, pd.DataFrame):\n",
    "    print(\"\\u2705 First object created is a dataframe, good job!\")\n",
    "    summary_pts += 1\n",
    "else:\n",
    "    print(\"\\u274C First object created is not a dataframe.\")\n",
    "    \n",
    "\n",
    "if len(student_max_yearly)==24:\n",
    "    print(\"\\u2705 First object created is a yearly summary, good job!\")\n",
    "    summary_pts += 3\n",
    "else:\n",
    "    print(\"\\u274C First object created is not a yearly summary.\") \n",
    "    \n",
    "if isinstance(student_mean_monthly, pd.DataFrame):\n",
    "    print(\"\\u2705 Second object created is a dataframe, good job!\")\n",
    "    summary_pts += 1\n",
    "else:\n",
    "    print(\"\\u274C Second object created is not a dataframe.\")\n",
    "    \n",
    "if len(student_mean_monthly)==12:\n",
    "    print(\"\\u2705 Second object created is a monthly summary, good job!\")\n",
    "    summary_pts += 3\n",
    "else:\n",
    "    print(\"\\u274C Second object created is not a monthly summary.\") \n",
    "    \n",
    "if round(student_max_yearly.fire_size.mean(), 2)==115471.0:\n",
    "    print(\"\\u2705 First dataframe has the right values!\")\n",
    "    summary_pts += 6\n",
    "else:\n",
    "    print(\"\\u274C Check your DataFrame values.\")\n",
    "    \n",
    "if round(student_mean_monthly.fire_size.mean(), 2)==2349.63:\n",
    "    print(\"\\u2705 Second Dataframe has the right values!\")\n",
    "    summary_pts += 6\n",
    "else:\n",
    "    print(\"\\u274C Check your DataFrame values.\")\n",
    "    \n",
    "print('You earned {} of 20 points for summarizing your data'\n",
    "      .format(summary_pts))\n",
    "summary_pts"
   ]
  },
  {
   "cell_type": "markdown",
   "metadata": {
    "deletable": false,
    "editable": false,
    "nbgrader": {
     "cell_type": "markdown",
     "checksum": "3d15b840ae4a0d25835c1e099ecab8b1",
     "grade": false,
     "grade_id": "student-addcols-question",
     "locked": true,
     "schema_version": 3,
     "solution": false,
     "task": false
    }
   },
   "source": [
    "## Challenge 4: Add human ignition flag and season fields\n",
    "\n",
    "Add two columns to your dataframe:\n",
    "* A boolean `human_ignition` column that is true if the cause is one of Arson, Smoking, Equipment Use, Campfire, Powerline, Railroad, or Debris Burning\n",
    "* An ordered Categorical `season` column using MAM/JJA/SON/DJF seasons call `pd.Categorical()` on the resulting column. Spring should be the first season\n",
    "\n",
    "BONUS: Try to create the `season` column by writing your own `month_to_season` function and applying it to the month or month_num column AND/OR create a DateTime column and use the dt.season attribute.\n",
    "\n",
    "**Call your modified dataframe at the end of the cell**"
   ]
  },
  {
   "cell_type": "code",
   "execution_count": null,
   "metadata": {
    "deletable": false,
    "nbgrader": {
     "cell_type": "code",
     "checksum": "01fc0c40c23b5339a1d535dd078045ed",
     "grade": false,
     "grade_id": "student-addcols-answer",
     "locked": false,
     "schema_version": 3,
     "solution": true,
     "task": false
    }
   },
   "outputs": [],
   "source": [
    "# YOUR CODE HERE\n",
    "raise NotImplementedError()"
   ]
  },
  {
   "cell_type": "code",
   "execution_count": null,
   "metadata": {
    "deletable": false,
    "editable": false,
    "nbgrader": {
     "cell_type": "code",
     "checksum": "cf826c2f40a32a0bc9e2d4890bbe7b4d",
     "grade": true,
     "grade_id": "student-addcols-test",
     "locked": true,
     "points": 20,
     "schema_version": 3,
     "solution": false,
     "task": false
    }
   },
   "outputs": [],
   "source": [
    "# DO NOT MODIFY THIS CELL\n",
    "\n",
    "# Tests if the result is a DataFrame with human_ignition and season columns\n",
    "\n",
    "student_add_columns_df = _\n",
    "add_columns_pts = 0\n",
    "\n",
    "if isinstance(student_add_columns_df, pd.DataFrame):\n",
    "    print(\"\\u2705 Object is a dataframe, good job!\")\n",
    "    add_columns_pts += 1\n",
    "else:\n",
    "    print(\"\\u274C Object is not a dataframe.\")\n",
    "    \n",
    "if 'human_ignition' in student_add_columns_df.columns:\n",
    "    print(\"\\u2705 Dataframe has a human_ignition column, good job!\")\n",
    "    add_columns_pts += 2\n",
    "else:\n",
    "    print(\"\\u274C Dataframe is missing a human_ignition column.\")\n",
    "    \n",
    "if 'season' in student_add_columns_df.columns:\n",
    "    print(\"\\u2705 Dataframe has a season column, good job!\")\n",
    "    add_columns_pts += 2\n",
    "else:\n",
    "    print(\"\\u274C Dataframe is missing a season column.\")\n",
    "    \n",
    "if len(student_add_columns_df)==4101:\n",
    "    print(\"\\u2705 Dataframe has the right number of rows, good job!\")\n",
    "    add_columns_pts += 5\n",
    "else:\n",
    "    print(\"\\u274C Dataframe has the wrong number of rows.\")\n",
    "    \n",
    "if round(student_add_columns_df.fire_size.mean(), 2)==2995.31:\n",
    "    print(\"\\u2705 Dataframe has the right values!\")\n",
    "    add_columns_pts += 10\n",
    "else:\n",
    "    print(\"\\u274C Check your DataFrame values.\")\n",
    "    \n",
    "print(\"You earned {} of 20 points for importing fire data\"\n",
    "      .format(add_columns_pts))\n",
    "    \n"
   ]
  },
  {
   "cell_type": "markdown",
   "metadata": {
    "deletable": false,
    "editable": false,
    "nbgrader": {
     "cell_type": "markdown",
     "checksum": "e8bae4b731779fbed792d69aed7f6d90",
     "grade": false,
     "grade_id": "student-copy-question",
     "locked": true,
     "schema_version": 3,
     "solution": false,
     "task": false
    }
   },
   "source": [
    "## Challenge 5: Making a copy of a dataframe versus a slice\n",
    "\n",
    "If you want to make changes to the structure of your dataframe and you are only working with a slice, Pandas will give you a warning message. If this is what you truly want to do, you can use the copy command to make a new copy of the subset of rows/columns you are working with. Here we just want to work on a the subset of the fires that are human-caused. Because we created a copy, we can now link in other table data and manipulate it. You can see that this copy is smaller, but it is also a completely new copy of the data. Any changes to human fires will not affect the original dataframe.\n",
    "\n",
    "Try this out by writing code to do the following:\n",
    "* Make a copy of just the rows flagged as human_ignition\n",
    "* Convert fire_name to title case\n",
    "* Call the first 5 rows of the fire_name column for both the original and the copy and note the difference"
   ]
  },
  {
   "cell_type": "code",
   "execution_count": null,
   "metadata": {
    "deletable": false,
    "nbgrader": {
     "cell_type": "code",
     "checksum": "efb5a33a8faa407e2a37f0171f2f190c",
     "grade": true,
     "grade_id": "student-copy-answer",
     "locked": false,
     "points": 5,
     "schema_version": 3,
     "solution": true,
     "task": false
    }
   },
   "outputs": [],
   "source": [
    "# YOUR CODE HERE\n",
    "raise NotImplementedError()"
   ]
  },
  {
   "cell_type": "markdown",
   "metadata": {
    "deletable": false,
    "editable": false,
    "nbgrader": {
     "cell_type": "markdown",
     "checksum": "f201079d278b5cf0be8a7e94d406680d",
     "grade": false,
     "grade_id": "student-loop-question",
     "locked": true,
     "schema_version": 3,
     "solution": false,
     "task": false
    }
   },
   "source": [
    "## Challenge 6: looping through nested directories\n",
    "\n",
    "Loop through nested directories to create a data catalog of the \"ca-fires-yearly\" dataset with the following specifications:\n",
    "* The data catalog should be a DataFrame with the following columns:\n",
    "  * The `dataset` column should contain the name of the directory you are searching, such as \"monthly-mean-size\"\n",
    "  * The `file_name` column should contain strings of the basename only of each file in alphabetical (and chronological) order\n",
    "  * The `year` column should be an integer column of the year extracted from the file name\n",
    "  * The `file_rows` column should contain the number of rows in the corresponding file\n",
    "  * The `file_columns` columns should contain the number of columns in the corresponding file\n",
    "  \n",
    "HINT: There are a couple of ways to create DataFrames from scratch. [Check out the pandas documentation for examples.](https://pandas.pydata.org/docs/reference/api/pandas.DataFrame.html)\n",
    "\n",
    "**Call your data catalog dataframe at the end of the cell"
   ]
  },
  {
   "cell_type": "code",
   "execution_count": null,
   "metadata": {
    "deletable": false,
    "nbgrader": {
     "cell_type": "code",
     "checksum": "e159c7c400cb62598b8f4ab8530a166a",
     "grade": false,
     "grade_id": "student-loop-answer",
     "locked": false,
     "schema_version": 3,
     "solution": true,
     "task": false
    }
   },
   "outputs": [],
   "source": [
    "# YOUR CODE HERE\n",
    "raise NotImplementedError()"
   ]
  },
  {
   "cell_type": "code",
   "execution_count": null,
   "metadata": {
    "deletable": false,
    "editable": false,
    "nbgrader": {
     "cell_type": "code",
     "checksum": "b8efab3e702d6e74af486e04c71930ad",
     "grade": true,
     "grade_id": "student-loop-test",
     "locked": true,
     "points": 15,
     "schema_version": 3,
     "solution": false,
     "task": false
    }
   },
   "outputs": [],
   "source": [
    "# DO NOT MODIFY THIS CELL\n",
    "\n",
    "# Tests if the result is a DataFrame with the correct columns\n",
    "\n",
    "student_catalog_df = _\n",
    "catalog_pts = 0\n",
    "\n",
    "if isinstance(student_catalog_df, pd.DataFrame):\n",
    "    print(\"\\u2705 Object is a dataframe, good job!\")\n",
    "    catalog_pts += 1\n",
    "else:\n",
    "    print(\"\\u274C Object is not a dataframe.\")\n",
    "    \n",
    "if all([col in student_catalog_df.columns.values\n",
    "        for col \n",
    "        in ['dataset', 'file_name', 'year', 'file_rows', 'file_columns']]):\n",
    "    print(\"\\u2705 Dataframe has all the right columns, good job!\")\n",
    "    catalog_pts += 3\n",
    "else:\n",
    "    print(\"\\u274C Dataframe is missing required columns.\")\n",
    "    \n",
    "if len(student_catalog_df)==72:\n",
    "    print(\"\\u2705 Dataframe has the right number of rows, good job!\")\n",
    "    catalog_pts += 5\n",
    "else:\n",
    "    print(\"\\u274C Dataframe has the wrong number of rows.\")\n",
    "    \n",
    "if round(student_catalog_df.file_rows.mean(), 2)==57.62:\n",
    "    print(\"\\u2705 Dataframe has the right values!\")\n",
    "    catalog_pts += 6\n",
    "else:\n",
    "    print(\"\\u274C Check your DataFrame values.\")\n",
    "    \n",
    "print(\"You earned {} of 15 points for importing fire data\"\n",
    "      .format(catalog_pts))\n",
    "catalog_pts"
   ]
  },
  {
   "cell_type": "markdown",
   "metadata": {
    "deletable": false,
    "editable": false,
    "nbgrader": {
     "cell_type": "markdown",
     "checksum": "7ab11ac67672f940575e33c48601b3c3",
     "grade": false,
     "grade_id": "student-function-question",
     "locked": true,
     "schema_version": 3,
     "solution": false,
     "task": false
    }
   },
   "source": [
    "## Challenge 7: Convert challenge 5 into a function\n",
    "\n",
    "**Make sure to include a numpy-style docstring**"
   ]
  },
  {
   "cell_type": "code",
   "execution_count": null,
   "metadata": {
    "deletable": false,
    "nbgrader": {
     "cell_type": "code",
     "checksum": "8bf3da89c0b7ec8a93395d8dd216a0fa",
     "grade": true,
     "grade_id": "student-function-answer",
     "locked": false,
     "points": 5,
     "schema_version": 3,
     "solution": true,
     "task": false
    }
   },
   "outputs": [],
   "source": [
    "# YOUR CODE HERE\n",
    "raise NotImplementedError()"
   ]
  },
  {
   "cell_type": "markdown",
   "metadata": {
    "deletable": false,
    "editable": false,
    "nbgrader": {
     "cell_type": "markdown",
     "checksum": "cd80e3a7a1c6db74f7526db67b3e494f",
     "grade": false,
     "grade_id": "student-call-question",
     "locked": true,
     "schema_version": 3,
     "solution": false,
     "task": false
    }
   },
   "source": [
    "## Challenge 8: Call create_dataset_catalog\n",
    "\n",
    "Call the function you just created"
   ]
  },
  {
   "cell_type": "code",
   "execution_count": null,
   "metadata": {
    "deletable": false,
    "nbgrader": {
     "cell_type": "code",
     "checksum": "6455fc3153870b5f34431514a21b9472",
     "grade": false,
     "grade_id": "student-call-answer",
     "locked": false,
     "schema_version": 3,
     "solution": true,
     "task": false
    }
   },
   "outputs": [],
   "source": [
    "# YOUR CODE HERE\n",
    "raise NotImplementedError()"
   ]
  },
  {
   "cell_type": "code",
   "execution_count": null,
   "metadata": {
    "deletable": false,
    "editable": false,
    "nbgrader": {
     "cell_type": "code",
     "checksum": "19ae38ff398e143bda0ee3158bb984b6",
     "grade": true,
     "grade_id": "cell-82531a7d95aaa595",
     "locked": true,
     "points": 10,
     "schema_version": 3,
     "solution": false,
     "task": false
    }
   },
   "outputs": [],
   "source": [
    "student_catalog2_df = _\n",
    "catalog2_pts = 0\n",
    "\n",
    "if len(student_catalog2_df)==72:\n",
    "    print(\"\\u2705 Dataframe has the right number of rows, good job!\")\n",
    "    catalog2_pts += 5\n",
    "else:\n",
    "    print(\"\\u274C Dataframe has the wrong number of rows.\")\n",
    "    \n",
    "if round(student_catalog2_df.file_rows.mean(), 2)==57.62:\n",
    "    print(\"\\u2705 Dataframe has the right values!\")\n",
    "    catalog2_pts += 5\n",
    "else:\n",
    "    print(\"\\u274C Check your DataFrame values.\")\n",
    "    \n",
    "print(\"You earned {} of 10 points for importing fire data\"\n",
    "      .format(catalog2_pts))\n",
    "catalog2_pts"
   ]
  },
  {
   "cell_type": "markdown",
   "metadata": {
    "deletable": false,
    "editable": false,
    "nbgrader": {
     "cell_type": "markdown",
     "checksum": "535a1d2e3b7d5c6d5d0f4c8d7d7b5c1b",
     "grade": false,
     "grade_id": "student-help-question",
     "locked": true,
     "schema_version": 3,
     "solution": false,
     "task": false
    }
   },
   "source": [
    "## Challenge 9: Call help for catalog function\n",
    "\n",
    "Call help for the function we just created"
   ]
  },
  {
   "cell_type": "code",
   "execution_count": null,
   "metadata": {
    "deletable": false,
    "nbgrader": {
     "cell_type": "code",
     "checksum": "17105d7e8df10c923de6fa84042a9033",
     "grade": true,
     "grade_id": "student-help-answer",
     "locked": false,
     "points": 5,
     "schema_version": 3,
     "solution": true,
     "task": false
    }
   },
   "outputs": [],
   "source": [
    "# YOUR CODE HERE\n",
    "raise NotImplementedError()"
   ]
  },
  {
   "cell_type": "markdown",
   "metadata": {
    "deletable": false,
    "editable": false,
    "nbgrader": {
     "cell_type": "markdown",
     "checksum": "ee963c1ed51c14bad555fc9f221027ea",
     "grade": false,
     "grade_id": "student-loop-plot-question",
     "locked": true,
     "schema_version": 3,
     "solution": false,
     "task": false
    }
   },
   "source": [
    "## Challenge 10: plot fires by cause (homework 8 challenge 10 revisited\n",
    "\n",
    "Create a plot using a for loop and conditional statment to the following specifications:\n",
    "* Filter data to size class 'G' and 2010 or later\n",
    "* Scatter plot of fire size (y-axis) vs. season (x-axis) labeled by cause\n",
    "* Colored human causes 'red' and non-human causes 'blue'\n",
    "* Adjust the size and layout so that labels do not overlap"
   ]
  },
  {
   "cell_type": "code",
   "execution_count": null,
   "metadata": {
    "deletable": false,
    "nbgrader": {
     "cell_type": "code",
     "checksum": "e1d78140e5d4b59d74d5c6e5cb6857b0",
     "grade": true,
     "grade_id": "studnet-loop-plot-answer",
     "locked": false,
     "points": 15,
     "schema_version": 3,
     "solution": true,
     "task": false
    }
   },
   "outputs": [],
   "source": [
    "# YOUR CODE HERE\n",
    "raise NotImplementedError()"
   ]
  },
  {
   "cell_type": "markdown",
   "metadata": {
    "deletable": false,
    "editable": false,
    "nbgrader": {
     "cell_type": "markdown",
     "checksum": "927e725133106a2bdeac6d48536ae175",
     "grade": false,
     "grade_id": "student-seaborn-question",
     "locked": true,
     "schema_version": 3,
     "solution": false,
     "task": false
    }
   },
   "source": [
    "## Challenge 11: Try plotting using the seaborn stripplot instead\n",
    "This will let you see overlapping data. Set the hue to human_ignition and dodge to True. You won't need a for loop for this plot.\n",
    "\n",
    "[Check out the documentation for some differences from matplotlib, including the data parameter](http://seaborn.pydata.org/generated/seaborn.stripplot.html#seaborn.stripplot)"
   ]
  },
  {
   "cell_type": "code",
   "execution_count": null,
   "metadata": {
    "deletable": false,
    "nbgrader": {
     "cell_type": "code",
     "checksum": "f8c4ee59f2fa0230fbdc9d3896a833a3",
     "grade": true,
     "grade_id": "studnet-seaborn-answer",
     "locked": false,
     "points": 10,
     "schema_version": 3,
     "solution": true,
     "task": false
    }
   },
   "outputs": [],
   "source": [
    "# YOUR CODE HERE\n",
    "raise NotImplementedError()"
   ]
  }
 ],
 "metadata": {
  "kernelspec": {
   "display_name": "Python 3 (ipykernel)",
   "language": "python",
   "name": "python3"
  },
  "language_info": {
   "codemirror_mode": {
    "name": "ipython",
    "version": 3
   },
   "file_extension": ".py",
   "mimetype": "text/x-python",
   "name": "python",
   "nbconvert_exporter": "python",
   "pygments_lexer": "ipython3",
   "version": "3.8.12"
  },
  "varInspector": {
   "cols": {
    "lenName": 16,
    "lenType": 16,
    "lenVar": 40
   },
   "kernels_config": {
    "python": {
     "delete_cmd_postfix": "",
     "delete_cmd_prefix": "del ",
     "library": "var_list.py",
     "varRefreshCmd": "print(var_dic_list())"
    },
    "r": {
     "delete_cmd_postfix": ") ",
     "delete_cmd_prefix": "rm(",
     "library": "var_list.r",
     "varRefreshCmd": "cat(var_dic_list()) "
    }
   },
   "types_to_exclude": [
    "module",
    "function",
    "builtin_function_or_method",
    "instance",
    "_Feature"
   ],
   "window_display": false
  }
 },
 "nbformat": 4,
 "nbformat_minor": 4
}
